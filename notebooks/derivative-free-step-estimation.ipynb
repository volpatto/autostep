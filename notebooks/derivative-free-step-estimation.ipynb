{
 "cells": [
  {
   "cell_type": "markdown",
   "metadata": {},
   "source": [
    "# Automatic derivative-free step estimation\n",
    "\n",
    "This notebook contains some drafts of possible approaches to estimate reasonable derivative steps without\n",
    "prior knowledge about the derivatives."
   ]
  },
  {
   "cell_type": "code",
   "execution_count": 1,
   "metadata": {},
   "outputs": [],
   "source": [
    "import numpy as np\n",
    "import matplotlib.pyplot as plt"
   ]
  },
  {
   "cell_type": "code",
   "execution_count": 2,
   "metadata": {},
   "outputs": [],
   "source": [
    "def df_dx_numerical(f, x, dx):\n",
    "    return (f(x + dx) - f(x)) / dx"
   ]
  },
  {
   "cell_type": "code",
   "execution_count": 3,
   "metadata": {},
   "outputs": [],
   "source": [
    "def f(x):\n",
    "#     return x * x * x - x * x + x - 5  # increasing derivative\n",
    "    return -x * x * x - x * x + x - 5  # decreasing derivative\n",
    "#     return np.sin(x) * np.exp(-x)  # non-monotonic case\n",
    "#     return np.sin(x) + 1e14\n",
    "\n",
    "def df_dx_exact(x):\n",
    "#     return 3 * x * x - 2 * x + 1  # increasing derivative\n",
    "    return -3 * x * x - 2 * x + 1  # decreasing derivative\n",
    "#     return np.exp(-x) * (np.cos(x) - np.sin(x))  # non-monotonic case\n",
    "#     return np.cos(x)"
   ]
  },
  {
   "cell_type": "markdown",
   "metadata": {},
   "source": [
    "## Hard coded approach\n",
    "\n",
    "This is the classical case. The proper step is estimated by trial and errors, changing the value of `num_of_points`."
   ]
  },
  {
   "cell_type": "code",
   "execution_count": 4,
   "metadata": {},
   "outputs": [
    {
     "data": {
      "text/plain": [
       "0.5"
      ]
     },
     "execution_count": 4,
     "metadata": {},
     "output_type": "execute_result"
    }
   ],
   "source": [
    "x_initial = 0.0\n",
    "x_final = 5.0\n",
    "num_of_points = 10\n",
    "dx = (x_final - x_initial) / num_of_points\n",
    "x_domain = np.linspace(x_initial, x_final, num_of_points)\n",
    "\n",
    "dx"
   ]
  },
  {
   "cell_type": "code",
   "execution_count": 5,
   "metadata": {},
   "outputs": [],
   "source": [
    "df_dx_analytical = df_dx_exact(x_domain)\n",
    "df_dx_approx = df_dx_numerical(f, x_domain, dx)\n",
    "\n",
    "assert len(df_dx_analytical) == len(df_dx_approx)"
   ]
  },
  {
   "cell_type": "code",
   "execution_count": 6,
   "metadata": {},
   "outputs": [
    {
     "data": {
      "image/png": "[encoded data removed]",
      "text/plain": [
       "<Figure size 576x432 with 1 Axes>"
      ]
     },
     "metadata": {
      "needs_background": "light"
     },
     "output_type": "display_data"
    }
   ],
   "source": [
    "plt.figure(figsize=(8, 6))\n",
    "plt.plot(x_domain, df_dx_analytical, \"o-\", label='exact')\n",
    "plt.plot(x_domain, df_dx_approx, \"x-\", label='numerical')\n",
    "plt.grid(True)\n",
    "plt.legend()\n",
    "\n",
    "plt.xlabel(r\"$x$\")\n",
    "plt.ylabel(r\"$\\dfrac{d f}{d x}$\")\n",
    "\n",
    "plt.tight_layout()\n",
    "plt.show()"
   ]
  },
  {
   "cell_type": "markdown",
   "metadata": {},
   "source": [
    "## Automatic step size\n",
    "\n",
    "The only prior knowledge required is a record of function evaluations."
   ]
  },
  {
   "cell_type": "code",
   "execution_count": 7,
   "metadata": {},
   "outputs": [],
   "source": [
    "f_evaluations = f(x_domain)"
   ]
  },
  {
   "cell_type": "markdown",
   "metadata": {},
   "source": [
    "A utility function to estimate a scaling factor:"
   ]
  },
  {
   "cell_type": "code",
   "execution_count": 8,
   "metadata": {},
   "outputs": [],
   "source": [
    "def calculate_scaling_factor(sorted_evaluations):\n",
    "    index_max = len(sorted_evaluations) - 1\n",
    "    max_min_gap = 0.0\n",
    "    while max_min_gap <= 0:\n",
    "        if index_max < 0:\n",
    "            raise RuntimeError(\"No valid max-min gap can be calculated.\")\n",
    "            \n",
    "        max_min_gap = sorted_evaluations[index_max] - sorted_evaluations[0]\n",
    "        index_max -= 1\n",
    "    \n",
    "    min_value = sorted_evaluations[0]\n",
    "    scaling_factor = max_min_gap / min_value\n",
    "    if scaling_factor > 1:\n",
    "        scaling_factor = 1 / scaling_factor\n",
    "    return scaling_factor"
   ]
  },
  {
   "cell_type": "markdown",
   "metadata": {},
   "source": [
    "### Approach 1: step size relative to the norm of the absolute minimum value of the function"
   ]
  },
  {
   "cell_type": "code",
   "execution_count": 9,
   "metadata": {},
   "outputs": [],
   "source": [
    "def dx_relative_evaluation_order(evaluations):\n",
    "    evaluations_without_zeros = evaluations[np.abs(evaluations) > 0]\n",
    "    evaluations_absolute_values = np.abs(evaluations_without_zeros)  # this is necessary for decreasing derivative cases\n",
    "    evaluations_absolute_values_sorted = np.sort(evaluations_absolute_values)\n",
    "    scaling_factor = calculate_scaling_factor(evaluations_absolute_values_sorted)\n",
    "    return scaling_factor * np.linalg.norm(np.min(evaluations_absolute_values))"
   ]
  },
  {
   "cell_type": "code",
   "execution_count": 10,
   "metadata": {},
   "outputs": [
    {
     "data": {
      "text/plain": [
       "0.16716291149669313"
      ]
     },
     "execution_count": 10,
     "metadata": {},
     "output_type": "execute_result"
    }
   ],
   "source": [
    "dx1 = dx_relative_evaluation_order(f_evaluations)\n",
    "\n",
    "dx1"
   ]
  },
  {
   "cell_type": "markdown",
   "metadata": {},
   "source": [
    "**REMARK:**\n",
    "\n",
    "This approach is not suitable when `x_final - x_initial < 1`. Solutions are under investigations! Suggestions are welcome!"
   ]
  },
  {
   "cell_type": "markdown",
   "metadata": {},
   "source": [
    "### Approach 2: minimum difference among all function evaluations recorded"
   ]
  },
  {
   "cell_type": "code",
   "execution_count": 11,
   "metadata": {},
   "outputs": [],
   "source": [
    "def dx_min_cut(evaluations, tol=1e-12):\n",
    "    evaluations_without_zeros = evaluations[np.abs(evaluations) > 0]\n",
    "    sorted_evaluations = np.sort(np.abs(evaluations_without_zeros))  # increasing order\n",
    "    scaling_factor = calculate_scaling_factor(sorted_evaluations)\n",
    "    \n",
    "    dx = 0.0\n",
    "    next_index = 1\n",
    "    num_of_evaluations = len(sorted_evaluations)\n",
    "    while dx < tol:\n",
    "#         print(f\"{num_of_evaluations}\\t{next_index}\\t{dx}\\t{scaling_factor}\")\n",
    "        if next_index == num_of_evaluations:\n",
    "            raise RuntimeError(\"No valid step can be calculated.\")\n",
    "            \n",
    "        dx = scaling_factor * np.abs(sorted_evaluations[next_index] - sorted_evaluations[0])\n",
    "        next_index += 1\n",
    "        \n",
    "    if dx < tol:\n",
    "        raise RuntimeError(\"No significant step can be estimated.\")\n",
    "    \n",
    "    return dx"
   ]
  },
  {
   "cell_type": "code",
   "execution_count": 12,
   "metadata": {},
   "outputs": [
    {
     "data": {
      "text/plain": [
       "0.002560991680311449"
      ]
     },
     "execution_count": 12,
     "metadata": {},
     "output_type": "execute_result"
    }
   ],
   "source": [
    "dx2 = dx_min_cut(f_evaluations)\n",
    "\n",
    "dx2"
   ]
  },
  {
   "cell_type": "markdown",
   "metadata": {},
   "source": [
    "## Comparing the results"
   ]
  },
  {
   "cell_type": "code",
   "execution_count": 13,
   "metadata": {},
   "outputs": [],
   "source": [
    "df_dx_analytical = df_dx_exact(x_domain)\n",
    "df_dx_approx1 = df_dx_numerical(f, x_domain, dx1)\n",
    "df_dx_approx2 = df_dx_numerical(f, x_domain, dx2)\n",
    "\n",
    "assert len(df_dx_analytical) == len(df_dx_approx1) == len(df_dx_approx2)"
   ]
  },
  {
   "cell_type": "code",
   "execution_count": 14,
   "metadata": {},
   "outputs": [
    {
     "data": {
      "image/png": "[encoded data removed]",
      "text/plain": [
       "<Figure size 576x432 with 1 Axes>"
      ]
     },
     "metadata": {
      "needs_background": "light"
     },
     "output_type": "display_data"
    }
   ],
   "source": [
    "plt.figure(figsize=(8, 6))\n",
    "plt.plot(x_domain, df_dx_analytical, \"o-\", label='exact')\n",
    "plt.plot(x_domain, df_dx_approx1, \"x-\", label='approach 1')\n",
    "plt.plot(x_domain, df_dx_approx2, \"x-\", label='approach 2')\n",
    "plt.grid(True)\n",
    "plt.legend()\n",
    "\n",
    "plt.xlabel(r\"$x$\")\n",
    "plt.ylabel(r\"$\\dfrac{d f}{d x}$\")\n",
    "\n",
    "plt.tight_layout()\n",
    "plt.show()"
   ]
  }
 ],
 "metadata": {
  "kernelspec": {
   "display_name": "Python 3",
   "language": "python",
   "name": "python3"
  },
  "language_info": {
   "codemirror_mode": {
    "name": "ipython",
    "version": 3
   },
   "file_extension": ".py",
   "mimetype": "text/x-python",
   "name": "python",
   "nbconvert_exporter": "python",
   "pygments_lexer": "ipython3",
   "version": "3.7.3"
  }
 },
 "nbformat": 4,
 "nbformat_minor": 2
}
